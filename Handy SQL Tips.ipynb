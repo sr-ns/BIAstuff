{
    "metadata": {
        "kernelspec": {
            "name": "SQL",
            "display_name": "SQL",
            "language": "sql"
        },
        "language_info": {
            "name": "sql",
            "version": ""
        }
    },
    "nbformat_minor": 2,
    "nbformat": 4,
    "cells": [
        {
            "cell_type": "markdown",
            "source": [
                "# 25 Top SQL Tips!\n",
                "\n",
                "This document is a collection of tips related to keywords, functions and concepts in Transact-SQL, or T-SQL. It's by no means exhaustive, but offers an overview of commonly used components, as well as info on some rarer but still very useful ones."
            ],
            "metadata": {
                "azdata_cell_guid": "794ac4fd-abb2-4b27-8317-bb22463d6865"
            },
            "attachments": {}
        },
        {
            "cell_type": "markdown",
            "source": [
                "# 1\\. USE\n",
                "\n",
                "The USE command switches the database context to the specified database. This can be done manually, but putting it at the start of a script is a good way to ensure you're always working in the database you want. \n",
                "\n",
                "<span style=\"color: var(--vscode-foreground);\">If there's a space in the database name, you must surround it with square brackets; they're optional otherwise.</span>\n",
                "\n",
                "```SQL\n",
                "USE [Northwind 2022];\n",
                "GO\n",
                "```"
            ],
            "metadata": {
                "azdata_cell_guid": "a43318a4-ef75-4d9c-b697-9b7a757731a0"
            },
            "attachments": {}
        },
        {
            "cell_type": "code",
            "source": [
                "USE [Northwind 2022];\r\n",
                "GO"
            ],
            "metadata": {
                "azdata_cell_guid": "6ae26d61-a75a-4be9-a993-b430b02cd6c9",
                "language": "sql"
            },
            "outputs": [
                {
                    "output_type": "display_data",
                    "data": {
                        "text/html": "Commands completed successfully."
                    },
                    "metadata": {}
                },
                {
                    "output_type": "display_data",
                    "data": {
                        "text/html": "Total execution time: 00:00:00.011"
                    },
                    "metadata": {}
                }
            ],
            "execution_count": 1
        },
        {
            "cell_type": "markdown",
            "source": [
                "# 2\\. SELECT & FROM\n",
                "\n",
                "The basic building blocks of SQL queries. If you're not creating, updating or deleting, you're selecting something. SELECT can be used by itself, for instance to perform a math calculation.\n",
                "\n",
                "You can select multiple fields, separated by commas, or you can use the \\* wildcard to select all fields in the table.\n",
                "\n",
                "```SQL\n",
                "SELECT EmployeeID\n",
                "      ,FirstName\n",
                "      ,LastName\n",
                "FROM dbo.Employees\n",
                "\n",
                "```"
            ],
            "metadata": {
                "language": "sql",
                "azdata_cell_guid": "4291a27a-8145-4e90-b785-b9e62b5c5812"
            },
            "attachments": {}
        },
        {
            "cell_type": "code",
            "source": [
                "SELECT TOP 3 EmployeeID\r\n",
                "      ,FirstName\r\n",
                "      ,LastName\r\n",
                "FROM dbo.Employees"
            ],
            "metadata": {
                "language": "sql",
                "azdata_cell_guid": "0153ee1c-f194-4307-83db-f3b7cb24e481"
            },
            "outputs": [
                {
                    "output_type": "display_data",
                    "data": {
                        "text/html": "(3 rows affected)"
                    },
                    "metadata": {}
                },
                {
                    "output_type": "display_data",
                    "data": {
                        "text/html": "Total execution time: 00:00:00.015"
                    },
                    "metadata": {}
                },
                {
                    "output_type": "execute_result",
                    "metadata": {},
                    "execution_count": 7,
                    "data": {
                        "application/vnd.dataresource+json": {
                            "schema": {
                                "fields": [
                                    {
                                        "name": "EmployeeID"
                                    },
                                    {
                                        "name": "FirstName"
                                    },
                                    {
                                        "name": "LastName"
                                    }
                                ]
                            },
                            "data": [
                                {
                                    "EmployeeID": "1",
                                    "FirstName": "Nancy",
                                    "LastName": "Davolio"
                                },
                                {
                                    "EmployeeID": "2",
                                    "FirstName": "Andrew",
                                    "LastName": "Fuller"
                                },
                                {
                                    "EmployeeID": "3",
                                    "FirstName": "Janet",
                                    "LastName": "Leverling"
                                }
                            ]
                        },
                        "text/html": [
                            "<table>",
                            "<tr><th>EmployeeID</th><th>FirstName</th><th>LastName</th></tr>",
                            "<tr><td>1</td><td>Nancy</td><td>Davolio</td></tr>",
                            "<tr><td>2</td><td>Andrew</td><td>Fuller</td></tr>",
                            "<tr><td>3</td><td>Janet</td><td>Leverling</td></tr>",
                            "</table>"
                        ]
                    }
                }
            ],
            "execution_count": 7
        },
        {
            "cell_type": "markdown",
            "source": [
                "# 3\\. WHERE\n",
                "\n",
                "The WHERE clause can be used to filter your results at the detail level. It takes place before any grouping or aggregation, and filters by individual rows.\n",
                "\n",
                "It includes an expression which is evaluated and returns the rows for which the expression is true. Note: WHERE statements cannot include aggregate functions (unless you get around it using a subquery).\n",
                "\n",
                "```SQL\n",
                "SELECT ProductID\n",
                "      ,ProductName\n",
                "      ,UnitPrice\n",
                "FROM dbo.Products\n",
                "WHERE UnitPrice > 20\n",
                "\n",
                "```"
            ],
            "metadata": {
                "language": "sql",
                "azdata_cell_guid": "bb0fa781-2a81-469f-ba6d-a9dbe5bcfab1"
            },
            "attachments": {}
        },
        {
            "cell_type": "code",
            "source": [
                "SELECT TOP 5 ProductID\r\n",
                "      ,ProductName\r\n",
                "      ,UnitPrice\r\n",
                "FROM dbo.Products\r\n",
                "WHERE UnitPrice > 20"
            ],
            "metadata": {
                "language": "sql",
                "azdata_cell_guid": "bf4533fa-a5e8-4529-9010-d059c5be3157"
            },
            "outputs": [
                {
                    "output_type": "display_data",
                    "data": {
                        "text/html": "(5 rows affected)"
                    },
                    "metadata": {}
                },
                {
                    "output_type": "display_data",
                    "data": {
                        "text/html": "Total execution time: 00:00:00.035"
                    },
                    "metadata": {}
                },
                {
                    "output_type": "execute_result",
                    "execution_count": 6,
                    "data": {
                        "application/vnd.dataresource+json": {
                            "schema": {
                                "fields": [
                                    {
                                        "name": "ProductID"
                                    },
                                    {
                                        "name": "ProductName"
                                    },
                                    {
                                        "name": "UnitPrice"
                                    }
                                ]
                            },
                            "data": [
                                {
                                    "ProductID": "4",
                                    "ProductName": "Chef Anton's Cajun Seasoning",
                                    "UnitPrice": "22.00"
                                },
                                {
                                    "ProductID": "5",
                                    "ProductName": "Chef Anton's Gumbo Mix",
                                    "UnitPrice": "21.35"
                                },
                                {
                                    "ProductID": "6",
                                    "ProductName": "Grandma's Boysenberry Spread",
                                    "UnitPrice": "25.00"
                                },
                                {
                                    "ProductID": "7",
                                    "ProductName": "Uncle Bob's Organic Dried Pears",
                                    "UnitPrice": "30.00"
                                },
                                {
                                    "ProductID": "8",
                                    "ProductName": "Northwoods Cranberry Sauce",
                                    "UnitPrice": "40.00"
                                }
                            ]
                        },
                        "text/html": "<table><tr><th>ProductID</th><th>ProductName</th><th>UnitPrice</th></tr><tr><td>4</td><td>Chef Anton&#39;s Cajun Seasoning</td><td>22.00</td></tr><tr><td>5</td><td>Chef Anton&#39;s Gumbo Mix</td><td>21.35</td></tr><tr><td>6</td><td>Grandma&#39;s Boysenberry Spread</td><td>25.00</td></tr><tr><td>7</td><td>Uncle Bob&#39;s Organic Dried Pears</td><td>30.00</td></tr><tr><td>8</td><td>Northwoods Cranberry Sauce</td><td>40.00</td></tr></table>"
                    },
                    "metadata": {}
                }
            ],
            "execution_count": 6
        },
        {
            "cell_type": "markdown",
            "source": [
                "# 4\\. GROUP BY\n",
                "\n",
                "The GROUP BY clause is used to group rows that have the same value into summary rows. It is frequently used with aggregate functions like COUNT(), SUM(), or AVG(). You can group by multiple fields at once.\n",
                "\n",
                "Very Important: When using GROUP BY, every field in your SELECT statement MUST either be contained in the GROUP BY statement or in an aggregate function. If it isn't, SQL doesn't really know where to put it, and you will get an error.\n",
                "\n",
                "```SQL\n",
                "SELECT shp.CompanyName\n",
                "      ,COUNT(ord.OrderID) as 'OrderCount'\n",
                "FROM dbo.Orders as ord\n",
                "    INNER JOIN dbo.Shippers as shp\n",
                "    ON ord.ShipVia = shp.ShipperID\n",
                "GROUP BY shp.CompanyName\n",
                "\n",
                "```"
            ],
            "metadata": {
                "language": "sql",
                "azdata_cell_guid": "c73081f1-35ec-4c42-8ef0-ddde2a697852"
            },
            "attachments": {}
        },
        {
            "cell_type": "code",
            "source": [
                "SELECT shp.CompanyName\r\n",
                "      ,COUNT(ord.OrderID) as 'OrderCount'\r\n",
                "FROM dbo.Orders as ord\r\n",
                "    INNER JOIN dbo.Shippers as shp\r\n",
                "    ON ord.ShipVia = shp.ShipperID\r\n",
                "GROUP BY shp.CompanyName"
            ],
            "metadata": {
                "language": "sql",
                "azdata_cell_guid": "66efab8a-9d8d-4eca-a53e-55ae4bf0ecc8"
            },
            "outputs": [
                {
                    "output_type": "display_data",
                    "data": {
                        "text/html": "(3 rows affected)"
                    },
                    "metadata": {}
                },
                {
                    "output_type": "display_data",
                    "data": {
                        "text/html": "Total execution time: 00:00:00.018"
                    },
                    "metadata": {}
                },
                {
                    "output_type": "execute_result",
                    "execution_count": 12,
                    "data": {
                        "application/vnd.dataresource+json": {
                            "schema": {
                                "fields": [
                                    {
                                        "name": "CompanyName"
                                    },
                                    {
                                        "name": "OrderCount"
                                    }
                                ]
                            },
                            "data": [
                                {
                                    "CompanyName": "Federal Shipping",
                                    "OrderCount": "255"
                                },
                                {
                                    "CompanyName": "Speedy Express",
                                    "OrderCount": "249"
                                },
                                {
                                    "CompanyName": "United Package",
                                    "OrderCount": "326"
                                }
                            ]
                        },
                        "text/html": "<table><tr><th>CompanyName</th><th>OrderCount</th></tr><tr><td>Federal Shipping</td><td>255</td></tr><tr><td>Speedy Express</td><td>249</td></tr><tr><td>United Package</td><td>326</td></tr></table>"
                    },
                    "metadata": {}
                }
            ],
            "execution_count": 12
        },
        {
            "cell_type": "markdown",
            "source": [
                "# 5\\. HAVING\n",
                "\n",
                "The HAVING clause filters results at the aggregate level. It takes place after grouping or aggregation, and filters groups of rows.\n",
                "\n",
                "It can include aggregate functions in the statement.\n",
                "\n",
                "```SQL\n",
                "SELECT shp.CompanyName\n",
                "      ,COUNT(ord.OrderID) as 'OrderCount'\n",
                "FROM dbo.Orders as ord\n",
                "    INNER JOIN dbo.Shippers as shp\n",
                "    ON ord.ShipVia = shp.ShipperID\n",
                "GROUP BY shp.CompanyName\n",
                "HAVING COUNT(ord.OrderID) > 300\n",
                "\n",
                "```"
            ],
            "metadata": {
                "language": "sql",
                "azdata_cell_guid": "88ad9f1a-77d6-4e1b-96ad-c02f6ed41ff9"
            },
            "attachments": {}
        },
        {
            "cell_type": "code",
            "source": [
                "SELECT shp.CompanyName\r\n",
                "      ,COUNT(ord.OrderID) as 'OrderCount'\r\n",
                "FROM dbo.Orders as ord\r\n",
                "    INNER JOIN dbo.Shippers as shp\r\n",
                "    ON ord.ShipVia = shp.ShipperID\r\n",
                "GROUP BY shp.CompanyName\r\n",
                "HAVING COUNT(ord.OrderID) > 250"
            ],
            "metadata": {
                "language": "sql",
                "azdata_cell_guid": "07cbc82f-33ce-4484-85fa-63da151e1bd2"
            },
            "outputs": [
                {
                    "output_type": "display_data",
                    "data": {
                        "text/html": "(2 rows affected)"
                    },
                    "metadata": {}
                },
                {
                    "output_type": "display_data",
                    "data": {
                        "text/html": "Total execution time: 00:00:00.036"
                    },
                    "metadata": {}
                },
                {
                    "output_type": "execute_result",
                    "execution_count": 14,
                    "data": {
                        "application/vnd.dataresource+json": {
                            "schema": {
                                "fields": [
                                    {
                                        "name": "CompanyName"
                                    },
                                    {
                                        "name": "OrderCount"
                                    }
                                ]
                            },
                            "data": [
                                {
                                    "CompanyName": "Federal Shipping",
                                    "OrderCount": "255"
                                },
                                {
                                    "CompanyName": "United Package",
                                    "OrderCount": "326"
                                }
                            ]
                        },
                        "text/html": "<table><tr><th>CompanyName</th><th>OrderCount</th></tr><tr><td>Federal Shipping</td><td>255</td></tr><tr><td>United Package</td><td>326</td></tr></table>"
                    },
                    "metadata": {}
                }
            ],
            "execution_count": 14
        },
        {
            "cell_type": "markdown",
            "source": [
                "# 6\\. ORDER BY\n",
                "\n",
                "The ORDER BY clause is used to order the result set by the values in one or more columns. It works on numeric, alphabetical, and datetime valued columns.\n",
                "\n",
                "You can include the keywords ASC or DESC to specify ascending or descending order.\n",
                "\n",
                "```SQL\n",
                "SELECT ProductID\n",
                "      ,ProductName\n",
                "      ,UnitPrice\n",
                "FROM dbo.Products\n",
                "ORDER BY UnitPrice DESC\n",
                "```"
            ],
            "metadata": {
                "language": "sql",
                "azdata_cell_guid": "195d8034-54d5-448e-b2b4-88c494adb4c1"
            },
            "attachments": {}
        },
        {
            "cell_type": "code",
            "source": [
                "SELECT TOP 5 ProductID\r\n",
                "      ,ProductName\r\n",
                "      ,UnitPrice\r\n",
                "FROM dbo.Products\r\n",
                "ORDER BY UnitPrice DESC"
            ],
            "metadata": {
                "language": "sql",
                "azdata_cell_guid": "03f68443-6650-429e-941d-f32c7238fdf0"
            },
            "outputs": [
                {
                    "output_type": "display_data",
                    "data": {
                        "text/html": "(5 rows affected)"
                    },
                    "metadata": {}
                },
                {
                    "output_type": "display_data",
                    "data": {
                        "text/html": "Total execution time: 00:00:00.027"
                    },
                    "metadata": {}
                },
                {
                    "output_type": "execute_result",
                    "execution_count": 2,
                    "data": {
                        "application/vnd.dataresource+json": {
                            "schema": {
                                "fields": [
                                    {
                                        "name": "ProductID"
                                    },
                                    {
                                        "name": "ProductName"
                                    },
                                    {
                                        "name": "UnitPrice"
                                    }
                                ]
                            },
                            "data": [
                                {
                                    "ProductID": "38",
                                    "ProductName": "Côte de Blaye",
                                    "UnitPrice": "263.50"
                                },
                                {
                                    "ProductID": "29",
                                    "ProductName": "Thüringer Rostbratwurst",
                                    "UnitPrice": "123.79"
                                },
                                {
                                    "ProductID": "9",
                                    "ProductName": "Mishi Kobe Niku",
                                    "UnitPrice": "97.00"
                                },
                                {
                                    "ProductID": "20",
                                    "ProductName": "Sir Rodney's Marmalade",
                                    "UnitPrice": "81.00"
                                },
                                {
                                    "ProductID": "18",
                                    "ProductName": "Carnarvon Tigers",
                                    "UnitPrice": "62.50"
                                }
                            ]
                        },
                        "text/html": "<table><tr><th>ProductID</th><th>ProductName</th><th>UnitPrice</th></tr><tr><td>38</td><td>Côte de Blaye</td><td>263.50</td></tr><tr><td>29</td><td>Thüringer Rostbratwurst</td><td>123.79</td></tr><tr><td>9</td><td>Mishi Kobe Niku</td><td>97.00</td></tr><tr><td>20</td><td>Sir Rodney&#39;s Marmalade</td><td>81.00</td></tr><tr><td>18</td><td>Carnarvon Tigers</td><td>62.50</td></tr></table>"
                    },
                    "metadata": {}
                }
            ],
            "execution_count": 2
        },
        {
            "cell_type": "markdown",
            "source": [
                "# 7\\. Order of clauses in a SELECT statement\n",
                "\n",
                "It's important to remember that the order of clauses in a SELECT statement matters.\n",
                "\n",
                "There are too many possible clauses to include to demonstrate in one statement, but the most common ones are displayed below.\n",
                "\n",
                "```SQL\n",
                "SELECT shp.CompanyName\n",
                "      ,COUNT(ord.OrderID) as 'OrderCount'\n",
                "FROM dbo.Orders as ord\n",
                "    INNER JOIN dbo.Shippers as shp\n",
                "    ON ord.ShipVia = shp.ShipperID\n",
                "WHERE ord.Freight < 100\n",
                "GROUP BY shp.CompanyName\n",
                "HAVING COUNT(ord.OrderID) > 250\n",
                "ORDER BY COUNT(ord.OrderID) DESC\n",
                "```"
            ],
            "metadata": {
                "language": "sql",
                "azdata_cell_guid": "234f320f-e21b-4838-adf6-d7c90da288fb"
            },
            "attachments": {}
        },
        {
            "cell_type": "code",
            "source": [
                "SELECT shp.CompanyName\r\n",
                "      ,COUNT(ord.OrderID) as 'OrderCount'\r\n",
                "FROM dbo.Orders as ord\r\n",
                "    INNER JOIN dbo.Shippers as shp\r\n",
                "    ON ord.ShipVia = shp.ShipperID\r\n",
                "WHERE YEAR(ord.OrderDate) = 2022 \r\n",
                "GROUP BY shp.CompanyName\r\n",
                "HAVING COUNT(ord.OrderID) > 125\r\n",
                "ORDER BY COUNT(ord.OrderID) DESC"
            ],
            "metadata": {
                "language": "sql",
                "azdata_cell_guid": "bb025397-e26d-47f5-bead-ea495e863f07"
            },
            "outputs": [
                {
                    "output_type": "display_data",
                    "data": {
                        "text/html": "(2 rows affected)"
                    },
                    "metadata": {}
                },
                {
                    "output_type": "display_data",
                    "data": {
                        "text/html": "Total execution time: 00:00:00.034"
                    },
                    "metadata": {}
                },
                {
                    "output_type": "execute_result",
                    "execution_count": 25,
                    "data": {
                        "application/vnd.dataresource+json": {
                            "schema": {
                                "fields": [
                                    {
                                        "name": "CompanyName"
                                    },
                                    {
                                        "name": "OrderCount"
                                    }
                                ]
                            },
                            "data": [
                                {
                                    "CompanyName": "United Package",
                                    "OrderCount": "153"
                                },
                                {
                                    "CompanyName": "Speedy Express",
                                    "OrderCount": "133"
                                }
                            ]
                        },
                        "text/html": "<table><tr><th>CompanyName</th><th>OrderCount</th></tr><tr><td>United Package</td><td>153</td></tr><tr><td>Speedy Express</td><td>133</td></tr></table>"
                    },
                    "metadata": {}
                }
            ],
            "execution_count": 25
        },
        {
            "cell_type": "markdown",
            "source": [
                "# 8\\. Aliases\n",
                "\n",
                "Aliases can be used to give a column or table an alternate name, which is useful when you have an aggregate column (as they don't automatically get names) or are working with multiple tables (where you need to qualify column names with their table name to avoid confusion and it can get quite long to type out).\n",
                "\n",
                "You may have already noticed me using these - it's as simple as following the column or table in the SELECT or FROM statement with the 'as' keyword, and the desired name (it's good practice to surround it with quotes, but not necessary unless there's a space in it, or something else with the same name exists).\n",
                "\n",
                "```SQL\n",
                "SELECT 'Alias Example' as 'NewName'\n",
                "FROM dbo.Orders as ord\n",
                "```"
            ],
            "metadata": {
                "language": "sql",
                "azdata_cell_guid": "71fc25e6-5428-4294-95ab-7da18c28e48b"
            },
            "attachments": {}
        },
        {
            "cell_type": "code",
            "source": [
                "SELECT TOP 3 'Alias Example' as 'NewName'\r\n",
                "FROM dbo.Orders as ord"
            ],
            "metadata": {
                "language": "sql",
                "azdata_cell_guid": "1f3c8582-b1fb-4be8-ab9d-93e3c039e418"
            },
            "outputs": [
                {
                    "output_type": "display_data",
                    "data": {
                        "text/html": "(3 rows affected)"
                    },
                    "metadata": {}
                },
                {
                    "output_type": "display_data",
                    "data": {
                        "text/html": "Total execution time: 00:00:00.064"
                    },
                    "metadata": {}
                },
                {
                    "output_type": "execute_result",
                    "execution_count": 2,
                    "data": {
                        "application/vnd.dataresource+json": {
                            "schema": {
                                "fields": [
                                    {
                                        "name": "NewName"
                                    }
                                ]
                            },
                            "data": [
                                {
                                    "NewName": "Alias Example"
                                },
                                {
                                    "NewName": "Alias Example"
                                },
                                {
                                    "NewName": "Alias Example"
                                }
                            ]
                        },
                        "text/html": "<table><tr><th>NewName</th></tr><tr><td>Alias Example</td></tr><tr><td>Alias Example</td></tr><tr><td>Alias Example</td></tr></table>"
                    },
                    "metadata": {}
                }
            ],
            "execution_count": 2
        },
        {
            "cell_type": "markdown",
            "source": [
                "# 9\\. TOP n (WITH TIES)\n",
                "\n",
                "The TOP keyword is used to filter out the top n rows in your result set. By default it goes from the top of the table, which might not always make sense.\n",
                "\n",
                "Use it with ORDER BY DESC to get the highest values, or ASC if you want to look at the lowest.\n",
                "\n",
                "You can follow it with the WITH TIES keyword to include ties.\n",
                "\n",
                "```SQL\n",
                "SELECT DISTINCT TOP 5 WITH TIES pro.ProductID\n",
                "      ,pro.ProductName\n",
                "      ,ode.UnitPrice\n",
                "FROM dbo.OrderDetails as ode\n",
                "    INNER JOIN dbo.Products as pro\n",
                "    ON ode.ProductID = pro.ProductID\n",
                "ORDER BY ode.UnitPrice ASC\n",
                "```"
            ],
            "metadata": {
                "language": "sql",
                "azdata_cell_guid": "8aea27db-ef39-41bd-b047-8eec1757ce27"
            },
            "attachments": {}
        },
        {
            "cell_type": "code",
            "source": [
                "SELECT DISTINCT TOP 5 WITH TIES pro.ProductID\r\n",
                "      ,pro.ProductName\r\n",
                "      ,ode.UnitPrice\r\n",
                "FROM dbo.OrderDetails as ode\r\n",
                "    INNER JOIN dbo.Products as pro\r\n",
                "    ON ode.ProductID = pro.ProductID\r\n",
                "ORDER BY ode.UnitPrice ASC"
            ],
            "metadata": {
                "language": "sql",
                "azdata_cell_guid": "817c189c-c307-4c27-b319-5a77ee93847f"
            },
            "outputs": [
                {
                    "output_type": "display_data",
                    "data": {
                        "text/html": "(5 rows affected)"
                    },
                    "metadata": {}
                },
                {
                    "output_type": "display_data",
                    "data": {
                        "text/html": "Total execution time: 00:00:00.034"
                    },
                    "metadata": {}
                },
                {
                    "output_type": "execute_result",
                    "execution_count": 9,
                    "data": {
                        "application/vnd.dataresource+json": {
                            "schema": {
                                "fields": [
                                    {
                                        "name": "ProductID"
                                    },
                                    {
                                        "name": "ProductName"
                                    },
                                    {
                                        "name": "UnitPrice"
                                    }
                                ]
                            },
                            "data": [
                                {
                                    "ProductID": "33",
                                    "ProductName": "Geitost",
                                    "UnitPrice": "2.00"
                                },
                                {
                                    "ProductID": "33",
                                    "ProductName": "Geitost",
                                    "UnitPrice": "2.50"
                                },
                                {
                                    "ProductID": "24",
                                    "ProductName": "Guaraná Fantástica",
                                    "UnitPrice": "3.60"
                                },
                                {
                                    "ProductID": "24",
                                    "ProductName": "Guaraná Fantástica",
                                    "UnitPrice": "4.50"
                                },
                                {
                                    "ProductID": "13",
                                    "ProductName": "Konbu",
                                    "UnitPrice": "4.80"
                                }
                            ]
                        },
                        "text/html": "<table><tr><th>ProductID</th><th>ProductName</th><th>UnitPrice</th></tr><tr><td>33</td><td>Geitost</td><td>2.00</td></tr><tr><td>33</td><td>Geitost</td><td>2.50</td></tr><tr><td>24</td><td>Guaraná Fantástica</td><td>3.60</td></tr><tr><td>24</td><td>Guaraná Fantástica</td><td>4.50</td></tr><tr><td>13</td><td>Konbu</td><td>4.80</td></tr></table>"
                    },
                    "metadata": {}
                }
            ],
            "execution_count": 9
        },
        {
            "cell_type": "markdown",
            "source": [
                "# 10\\. Aggregate Functions\n",
                "\n",
                "Aggregate functions include functions like SUM(), COUNT(), AVG(), MIN(), and MAX(). They take a column as an argument and return a scalar value.\n",
                "\n",
                "If you have both an aggregate function and a column selected, you need to have a GROUP BY clause in your statement.\n",
                "\n",
                "```SQL\n",
                "SELECT SUM(UnitPrice) as 'Sum'\n",
                "      ,MAX(UnitPrice) as 'Max'\n",
                "      ,MIN(UnitPrice) as 'Min'\n",
                "      ,AVG(UnitPrice) as 'Avg'\n",
                "      ,COUNT(UnitPrice) as 'Cnt'\n",
                "FROM dbo.Products\n",
                "```"
            ],
            "metadata": {
                "language": "sql",
                "azdata_cell_guid": "aacb7d85-80c9-40ad-8053-95ccac79cd9a"
            },
            "attachments": {}
        },
        {
            "cell_type": "code",
            "source": [
                "SELECT SUM(UnitPrice) as 'Sum'\r\n",
                "      ,MAX(UnitPrice) as 'Max'\r\n",
                "      ,MIN(UnitPrice) as 'Min'\r\n",
                "      ,AVG(UnitPrice) as 'Avg'\r\n",
                "      ,COUNT(UnitPrice) as 'Cnt'\r\n",
                "FROM dbo.Products"
            ],
            "metadata": {
                "language": "sql",
                "azdata_cell_guid": "64f2bef0-49f1-47c1-8aba-cc53ba08b46e"
            },
            "outputs": [
                {
                    "output_type": "display_data",
                    "data": {
                        "text/html": "(1 row affected)"
                    },
                    "metadata": {}
                },
                {
                    "output_type": "display_data",
                    "data": {
                        "text/html": "Total execution time: 00:00:00.007"
                    },
                    "metadata": {}
                },
                {
                    "output_type": "execute_result",
                    "execution_count": 12,
                    "data": {
                        "application/vnd.dataresource+json": {
                            "schema": {
                                "fields": [
                                    {
                                        "name": "Sum"
                                    },
                                    {
                                        "name": "Max"
                                    },
                                    {
                                        "name": "Min"
                                    },
                                    {
                                        "name": "Avg"
                                    },
                                    {
                                        "name": "Cnt"
                                    }
                                ]
                            },
                            "data": [
                                {
                                    "Sum": "2222.71",
                                    "Max": "263.50",
                                    "Min": "2.50",
                                    "Avg": "28.8663",
                                    "Cnt": "77"
                                }
                            ]
                        },
                        "text/html": "<table><tr><th>Sum</th><th>Max</th><th>Min</th><th>Avg</th><th>Cnt</th></tr><tr><td>2222.71</td><td>263.50</td><td>2.50</td><td>28.8663</td><td>77</td></tr></table>"
                    },
                    "metadata": {}
                }
            ],
            "execution_count": 12
        },
        {
            "cell_type": "markdown",
            "source": [
                "# 11\\. CONCAT()\n",
                "\n",
                "The CONCAT() function allows you to take multiple strings, including string-valued columns, and combine them.\n",
                "\n",
                "You can also concatenate strings with the + operator.\n",
                "\n",
                "```SQL\n",
                "SELECT CONCAT(TitleOfCourtesy, ' ', FirstName, ' ', LastName, ', ', Title) as 'FullNameAndTitle'\n",
                "FROM dbo.Employees\n",
                "```"
            ],
            "metadata": {
                "language": "sql",
                "azdata_cell_guid": "51dcc782-b29b-42eb-b80e-7bbfaad0eb10"
            },
            "attachments": {}
        },
        {
            "cell_type": "code",
            "source": [
                "SELECT CONCAT(TitleOfCourtesy, ' ', FirstName, ' ', LastName, ', ', Title) as 'FullNameAndTitle'\r\n",
                "FROM dbo.Employees"
            ],
            "metadata": {
                "language": "sql",
                "azdata_cell_guid": "f19b1bda-f8fa-4ced-bc73-dcdc6daf03c8"
            },
            "outputs": [
                {
                    "output_type": "display_data",
                    "data": {
                        "text/html": "(9 rows affected)"
                    },
                    "metadata": {}
                },
                {
                    "output_type": "display_data",
                    "data": {
                        "text/html": "Total execution time: 00:00:00.007"
                    },
                    "metadata": {}
                },
                {
                    "output_type": "execute_result",
                    "execution_count": 16,
                    "data": {
                        "application/vnd.dataresource+json": {
                            "schema": {
                                "fields": [
                                    {
                                        "name": "FullNameAndTitle"
                                    }
                                ]
                            },
                            "data": [
                                {
                                    "FullNameAndTitle": "Ms. Nancy Davolio, Sales Representative"
                                },
                                {
                                    "FullNameAndTitle": "Dr. Andrew Fuller, Vice President, Sales"
                                },
                                {
                                    "FullNameAndTitle": "Ms. Janet Leverling, Sales Representative"
                                },
                                {
                                    "FullNameAndTitle": "Mrs. Margaret Peacock, Sales Representative"
                                },
                                {
                                    "FullNameAndTitle": "Mr. Steven Buchanan, Sales Manager"
                                },
                                {
                                    "FullNameAndTitle": "Mr. Michael Suyama, Sales Representative"
                                },
                                {
                                    "FullNameAndTitle": "Mr. Robert King, Sales Representative"
                                },
                                {
                                    "FullNameAndTitle": "Ms. Laura Callahan, Inside Sales Coordinator"
                                },
                                {
                                    "FullNameAndTitle": "Ms. Anne Dodsworth, Sales Representative"
                                }
                            ]
                        },
                        "text/html": "<table><tr><th>FullNameAndTitle</th></tr><tr><td>Ms. Nancy Davolio, Sales Representative</td></tr><tr><td>Dr. Andrew Fuller, Vice President, Sales</td></tr><tr><td>Ms. Janet Leverling, Sales Representative</td></tr><tr><td>Mrs. Margaret Peacock, Sales Representative</td></tr><tr><td>Mr. Steven Buchanan, Sales Manager</td></tr><tr><td>Mr. Michael Suyama, Sales Representative</td></tr><tr><td>Mr. Robert King, Sales Representative</td></tr><tr><td>Ms. Laura Callahan, Inside Sales Coordinator</td></tr><tr><td>Ms. Anne Dodsworth, Sales Representative</td></tr></table>"
                    },
                    "metadata": {}
                }
            ],
            "execution_count": 16
        },
        {
            "cell_type": "markdown",
            "source": [
                "# 12\\. UPPER and LOWER\n",
                "\n",
                "More string functions - as the names suggest, UPPER changes a string to uppercase, and LOWER to lowercase.\n",
                "\n",
                "```SQL\n",
                "SELECT UPPER(FirstName) as 'Upper'\n",
                "      ,LOWER(LastName) as 'Lower'\n",
                "FROM dbo.Employees\n",
                "```"
            ],
            "metadata": {
                "language": "sql",
                "azdata_cell_guid": "a0f62d1c-40f0-4a0b-8a08-19e51430d32f"
            },
            "attachments": {}
        },
        {
            "cell_type": "code",
            "source": [
                "SELECT UPPER(FirstName) as 'Upper'\r\n",
                "      ,LOWER(LastName) as 'Lower'\r\n",
                "FROM dbo.Employees"
            ],
            "metadata": {
                "language": "sql",
                "azdata_cell_guid": "f344ca0f-dee8-45a2-a515-33b55adc043d"
            },
            "outputs": [
                {
                    "output_type": "display_data",
                    "data": {
                        "text/html": "(9 rows affected)"
                    },
                    "metadata": {}
                },
                {
                    "output_type": "display_data",
                    "data": {
                        "text/html": "Total execution time: 00:00:00.006"
                    },
                    "metadata": {}
                },
                {
                    "output_type": "execute_result",
                    "execution_count": 21,
                    "data": {
                        "application/vnd.dataresource+json": {
                            "schema": {
                                "fields": [
                                    {
                                        "name": "Upper"
                                    },
                                    {
                                        "name": "Lower"
                                    }
                                ]
                            },
                            "data": [
                                {
                                    "Upper": "NANCY",
                                    "Lower": "davolio"
                                },
                                {
                                    "Upper": "ANDREW",
                                    "Lower": "fuller"
                                },
                                {
                                    "Upper": "JANET",
                                    "Lower": "leverling"
                                },
                                {
                                    "Upper": "MARGARET",
                                    "Lower": "peacock"
                                },
                                {
                                    "Upper": "STEVEN",
                                    "Lower": "buchanan"
                                },
                                {
                                    "Upper": "MICHAEL",
                                    "Lower": "suyama"
                                },
                                {
                                    "Upper": "ROBERT",
                                    "Lower": "king"
                                },
                                {
                                    "Upper": "LAURA",
                                    "Lower": "callahan"
                                },
                                {
                                    "Upper": "ANNE",
                                    "Lower": "dodsworth"
                                }
                            ]
                        },
                        "text/html": "<table><tr><th>Upper</th><th>Lower</th></tr><tr><td>NANCY</td><td>davolio</td></tr><tr><td>ANDREW</td><td>fuller</td></tr><tr><td>JANET</td><td>leverling</td></tr><tr><td>MARGARET</td><td>peacock</td></tr><tr><td>STEVEN</td><td>buchanan</td></tr><tr><td>MICHAEL</td><td>suyama</td></tr><tr><td>ROBERT</td><td>king</td></tr><tr><td>LAURA</td><td>callahan</td></tr><tr><td>ANNE</td><td>dodsworth</td></tr></table>"
                    },
                    "metadata": {}
                }
            ],
            "execution_count": 21
        },
        {
            "cell_type": "markdown",
            "source": [
                "# 13\\. YEAR(), MONTH(), DAY()\n",
                "\n",
                "You can use these functions to isolate elements of a datetime column. They can be useful when you want to group by time periods.\n",
                "\n",
                "```SQL\n",
                "SELECT OrderDate\n",
                "      ,YEAR(OrderDate) as 'Year'\n",
                "      ,MONTH(OrderDate) as 'Month'\n",
                "      ,DAY(OrderDate) as 'Day'\n",
                "FROM dbo.Orders\n",
                "```"
            ],
            "metadata": {
                "language": "sql",
                "azdata_cell_guid": "19985814-65b4-4d54-90c7-e73309c6a6d8"
            },
            "attachments": {}
        },
        {
            "cell_type": "code",
            "source": [
                "SELECT TOP 5 OrderDate\r\n",
                "      ,YEAR(OrderDate) as 'Year'\r\n",
                "      ,MONTH(OrderDate) as 'Month'\r\n",
                "      ,DAY(OrderDate) as 'Day'\r\n",
                "FROM dbo.Orders"
            ],
            "metadata": {
                "language": "sql",
                "azdata_cell_guid": "259b772b-86de-470f-9290-d9a76eb5d3a1"
            },
            "outputs": [
                {
                    "output_type": "display_data",
                    "data": {
                        "text/html": "(5 rows affected)"
                    },
                    "metadata": {}
                },
                {
                    "output_type": "display_data",
                    "data": {
                        "text/html": "Total execution time: 00:00:00.020"
                    },
                    "metadata": {}
                },
                {
                    "output_type": "execute_result",
                    "execution_count": 22,
                    "data": {
                        "application/vnd.dataresource+json": {
                            "schema": {
                                "fields": [
                                    {
                                        "name": "OrderDate"
                                    },
                                    {
                                        "name": "Year"
                                    },
                                    {
                                        "name": "Month"
                                    },
                                    {
                                        "name": "Day"
                                    }
                                ]
                            },
                            "data": [
                                {
                                    "OrderDate": "2021-07-04 00:00:00.000",
                                    "Year": "2021",
                                    "Month": "7",
                                    "Day": "4"
                                },
                                {
                                    "OrderDate": "2021-07-05 00:00:00.000",
                                    "Year": "2021",
                                    "Month": "7",
                                    "Day": "5"
                                },
                                {
                                    "OrderDate": "2021-07-08 00:00:00.000",
                                    "Year": "2021",
                                    "Month": "7",
                                    "Day": "8"
                                },
                                {
                                    "OrderDate": "2021-07-08 00:00:00.000",
                                    "Year": "2021",
                                    "Month": "7",
                                    "Day": "8"
                                },
                                {
                                    "OrderDate": "2021-07-09 00:00:00.000",
                                    "Year": "2021",
                                    "Month": "7",
                                    "Day": "9"
                                }
                            ]
                        },
                        "text/html": "<table><tr><th>OrderDate</th><th>Year</th><th>Month</th><th>Day</th></tr><tr><td>2021-07-04 00:00:00.000</td><td>2021</td><td>7</td><td>4</td></tr><tr><td>2021-07-05 00:00:00.000</td><td>2021</td><td>7</td><td>5</td></tr><tr><td>2021-07-08 00:00:00.000</td><td>2021</td><td>7</td><td>8</td></tr><tr><td>2021-07-08 00:00:00.000</td><td>2021</td><td>7</td><td>8</td></tr><tr><td>2021-07-09 00:00:00.000</td><td>2021</td><td>7</td><td>9</td></tr></table>"
                    },
                    "metadata": {}
                }
            ],
            "execution_count": 22
        },
        {
            "cell_type": "markdown",
            "source": [
                "# 14\\. GETDATE() and DATEDIFF()\n",
                "\n",
                "DATEDIFF() is a datetime function that takes an interval (year, month, day, etc.), start date, and end date, and tells you the difference between them.\n",
                "\n",
                "GETDATE() is a function with no parameters that returns the current datetime.\n",
                "\n",
                "Using them together, you can do things like finding someone's current age based on their birthdate.\n",
                "\n",
                "```SQL\n",
                "SELECT concat(FirstName, ' ', LastName) as 'Name'\n",
                "      ,BirthDate\n",
                "      ,DATEDIFF(Year, BirthDate, GETDATE()) as 'Age'\n",
                "FROM dbo.Employees\n",
                "```"
            ],
            "metadata": {
                "language": "sql",
                "azdata_cell_guid": "404ba5ed-4f85-4219-9e45-f67e0aa18bd1"
            },
            "attachments": {}
        },
        {
            "cell_type": "code",
            "source": [
                "SELECT concat(FirstName, ' ', LastName) as 'Name'\r\n",
                "      ,BirthDate\r\n",
                "      ,DATEDIFF(Year, BirthDate, GETDATE()) as 'Age'\r\n",
                "FROM dbo.Employees"
            ],
            "metadata": {
                "language": "sql",
                "azdata_cell_guid": "c0b8e60e-8149-4868-8e3b-7c84abda68c9"
            },
            "outputs": [
                {
                    "output_type": "display_data",
                    "data": {
                        "text/html": "(9 rows affected)"
                    },
                    "metadata": {}
                },
                {
                    "output_type": "display_data",
                    "data": {
                        "text/html": "Total execution time: 00:00:00.006"
                    },
                    "metadata": {}
                },
                {
                    "output_type": "execute_result",
                    "execution_count": 24,
                    "data": {
                        "application/vnd.dataresource+json": {
                            "schema": {
                                "fields": [
                                    {
                                        "name": "Name"
                                    },
                                    {
                                        "name": "BirthDate"
                                    },
                                    {
                                        "name": "Age"
                                    }
                                ]
                            },
                            "data": [
                                {
                                    "Name": "Nancy Davolio",
                                    "BirthDate": "1973-12-08 00:00:00.000",
                                    "Age": "51"
                                },
                                {
                                    "Name": "Andrew Fuller",
                                    "BirthDate": "1977-02-19 00:00:00.000",
                                    "Age": "47"
                                },
                                {
                                    "Name": "Janet Leverling",
                                    "BirthDate": "1988-08-30 00:00:00.000",
                                    "Age": "36"
                                },
                                {
                                    "Name": "Margaret Peacock",
                                    "BirthDate": "1962-09-19 00:00:00.000",
                                    "Age": "62"
                                },
                                {
                                    "Name": "Steven Buchanan",
                                    "BirthDate": "1980-03-04 00:00:00.000",
                                    "Age": "44"
                                },
                                {
                                    "Name": "Michael Suyama",
                                    "BirthDate": "1988-07-02 00:00:00.000",
                                    "Age": "36"
                                },
                                {
                                    "Name": "Robert King",
                                    "BirthDate": "1985-05-29 00:00:00.000",
                                    "Age": "39"
                                },
                                {
                                    "Name": "Laura Callahan",
                                    "BirthDate": "1983-01-09 00:00:00.000",
                                    "Age": "41"
                                },
                                {
                                    "Name": "Anne Dodsworth",
                                    "BirthDate": "1991-01-27 00:00:00.000",
                                    "Age": "33"
                                }
                            ]
                        },
                        "text/html": "<table><tr><th>Name</th><th>BirthDate</th><th>Age</th></tr><tr><td>Nancy Davolio</td><td>1973-12-08 00:00:00.000</td><td>51</td></tr><tr><td>Andrew Fuller</td><td>1977-02-19 00:00:00.000</td><td>47</td></tr><tr><td>Janet Leverling</td><td>1988-08-30 00:00:00.000</td><td>36</td></tr><tr><td>Margaret Peacock</td><td>1962-09-19 00:00:00.000</td><td>62</td></tr><tr><td>Steven Buchanan</td><td>1980-03-04 00:00:00.000</td><td>44</td></tr><tr><td>Michael Suyama</td><td>1988-07-02 00:00:00.000</td><td>36</td></tr><tr><td>Robert King</td><td>1985-05-29 00:00:00.000</td><td>39</td></tr><tr><td>Laura Callahan</td><td>1983-01-09 00:00:00.000</td><td>41</td></tr><tr><td>Anne Dodsworth</td><td>1991-01-27 00:00:00.000</td><td>33</td></tr></table>"
                    },
                    "metadata": {}
                }
            ],
            "execution_count": 24
        },
        {
            "cell_type": "markdown",
            "source": [
                "# 15\\. INNER JOIN\n",
                "\n",
                "Joins allow you to query from multiple tables in a database at once. The two tables have to have a primary key-foreign key relationship - this often means that one table has an index column, and the other has a column with the same values (some of which may show up more than once, or not at all).\n",
                "\n",
                "An inner join is the simplest type of join. It selects records that have matching values in both tables, and is equivalent to the intersection of two sets.\n",
                "\n",
                "You must specify which columns you're joining on using the ON clause. You can chain multiple joins together in one query to bring in multiple tables.\n",
                "\n",
                "```SQL\n",
                "SELECT TOP 5 ord.OrderDate\n",
                "      ,ode.Quantity\n",
                "      ,pro.ProductName\n",
                "      ,cat.CategoryName\n",
                "FROM dbo.Orders as ord\n",
                "    INNER JOIN dbo.OrderDetails as ode\n",
                "    ON ord.OrderID = ode.OrderID\n",
                "    INNER JOIN dbo.Products as pro\n",
                "    ON pro.ProductID = ode.ProductID\n",
                "    INNER JOIN dbo.Categories as cat\n",
                "    ON cat.CategoryID = pro.CategoryID\n",
                "```"
            ],
            "metadata": {
                "language": "sql",
                "azdata_cell_guid": "7b200974-3b35-4005-a106-c7bdc89c3f45"
            },
            "attachments": {}
        },
        {
            "cell_type": "code",
            "source": [
                "SELECT TOP 5 ord.OrderDate\r\n",
                "      ,ode.Quantity\r\n",
                "      ,pro.ProductName\r\n",
                "      ,cat.CategoryName\r\n",
                "FROM dbo.Orders as ord\r\n",
                "    INNER JOIN dbo.OrderDetails as ode\r\n",
                "    ON ord.OrderID = ode.OrderID\r\n",
                "    INNER JOIN dbo.Products as pro\r\n",
                "    ON pro.ProductID = ode.ProductID\r\n",
                "    INNER JOIN dbo.Categories as cat\r\n",
                "    ON cat.CategoryID = pro.CategoryID"
            ],
            "metadata": {
                "language": "sql",
                "azdata_cell_guid": "e839afe3-50c8-4acd-a48e-b8abe6c782c8"
            },
            "outputs": [
                {
                    "output_type": "display_data",
                    "data": {
                        "text/html": "(5 rows affected)"
                    },
                    "metadata": {}
                },
                {
                    "output_type": "display_data",
                    "data": {
                        "text/html": "Total execution time: 00:00:00.032"
                    },
                    "metadata": {}
                },
                {
                    "output_type": "execute_result",
                    "execution_count": 25,
                    "data": {
                        "application/vnd.dataresource+json": {
                            "schema": {
                                "fields": [
                                    {
                                        "name": "OrderDate"
                                    },
                                    {
                                        "name": "Quantity"
                                    },
                                    {
                                        "name": "ProductName"
                                    },
                                    {
                                        "name": "CategoryName"
                                    }
                                ]
                            },
                            "data": [
                                {
                                    "OrderDate": "2021-07-04 00:00:00.000",
                                    "Quantity": "12",
                                    "ProductName": "Queso Cabrales",
                                    "CategoryName": "Dairy Products"
                                },
                                {
                                    "OrderDate": "2021-07-04 00:00:00.000",
                                    "Quantity": "10",
                                    "ProductName": "Singaporean Hokkien Fried Mee",
                                    "CategoryName": "Grains/Cereals"
                                },
                                {
                                    "OrderDate": "2021-07-04 00:00:00.000",
                                    "Quantity": "5",
                                    "ProductName": "Mozzarella di Giovanni",
                                    "CategoryName": "Dairy Products"
                                },
                                {
                                    "OrderDate": "2021-07-05 00:00:00.000",
                                    "Quantity": "9",
                                    "ProductName": "Tofu",
                                    "CategoryName": "Produce"
                                },
                                {
                                    "OrderDate": "2021-07-05 00:00:00.000",
                                    "Quantity": "40",
                                    "ProductName": "Manjimup Dried Apples",
                                    "CategoryName": "Produce"
                                }
                            ]
                        },
                        "text/html": "<table><tr><th>OrderDate</th><th>Quantity</th><th>ProductName</th><th>CategoryName</th></tr><tr><td>2021-07-04 00:00:00.000</td><td>12</td><td>Queso Cabrales</td><td>Dairy Products</td></tr><tr><td>2021-07-04 00:00:00.000</td><td>10</td><td>Singaporean Hokkien Fried Mee</td><td>Grains/Cereals</td></tr><tr><td>2021-07-04 00:00:00.000</td><td>5</td><td>Mozzarella di Giovanni</td><td>Dairy Products</td></tr><tr><td>2021-07-05 00:00:00.000</td><td>9</td><td>Tofu</td><td>Produce</td></tr><tr><td>2021-07-05 00:00:00.000</td><td>40</td><td>Manjimup Dried Apples</td><td>Produce</td></tr></table>"
                    },
                    "metadata": {}
                }
            ],
            "execution_count": 25
        },
        {
            "cell_type": "markdown",
            "source": [
                "# 16\\. LEFT, RIGHT, and FULL OUTER JOIN\n",
                "\n",
                "These joins are a bit more complicated - they return rows where there isn't a match.\n",
                "\n",
                "A left outer join returns all rows from the first table, and matching rows from the second. A right outer join does the opposite.\n",
                "\n",
                "A full outer join returns all rows in both tables. When there is no match, the result is a NULL value. This example uses a self-join, which we can do because it has a foreign key that matches its primary key.\n",
                "\n",
                "```SQL\n",
                "SELECT concat(em1.FirstName, ' ', em1.LastName) as 'Name'\n",
                "      ,em1.EmployeeID\n",
                "      ,em1.ReportsTo\n",
                "FROM dbo.Employees as em1\n",
                "    LEFT OUTER JOIN dbo.Employees as em2\n",
                "    ON em1.ReportsTo = em2.EmployeeID\n",
                "\n",
                "```"
            ],
            "metadata": {
                "language": "sql",
                "azdata_cell_guid": "7ff88751-3aeb-44df-b0da-a8882643964e"
            },
            "attachments": {}
        },
        {
            "cell_type": "code",
            "source": [
                "SELECT concat(em1.FirstName, ' ', em1.LastName) as 'Name'\r\n",
                "      ,em1.EmployeeID\r\n",
                "      ,em1.ReportsTo\r\n",
                "FROM dbo.Employees as em1\r\n",
                "    LEFT OUTER JOIN dbo.Employees as em2\r\n",
                "    ON em1.ReportsTo = em2.EmployeeID"
            ],
            "metadata": {
                "language": "sql",
                "azdata_cell_guid": "c75656c8-bf8d-4676-b85f-8aeeaec90520",
                "tags": []
            },
            "outputs": [
                {
                    "output_type": "display_data",
                    "data": {
                        "text/html": "(9 rows affected)"
                    },
                    "metadata": {}
                },
                {
                    "output_type": "display_data",
                    "data": {
                        "text/html": "Total execution time: 00:00:00.005"
                    },
                    "metadata": {}
                },
                {
                    "output_type": "execute_result",
                    "execution_count": 37,
                    "data": {
                        "application/vnd.dataresource+json": {
                            "schema": {
                                "fields": [
                                    {
                                        "name": "Name"
                                    },
                                    {
                                        "name": "EmployeeID"
                                    },
                                    {
                                        "name": "ReportsTo"
                                    }
                                ]
                            },
                            "data": [
                                {
                                    "Name": "Nancy Davolio",
                                    "EmployeeID": "1",
                                    "ReportsTo": "2"
                                },
                                {
                                    "Name": "Andrew Fuller",
                                    "EmployeeID": "2",
                                    "ReportsTo": "NULL"
                                },
                                {
                                    "Name": "Janet Leverling",
                                    "EmployeeID": "3",
                                    "ReportsTo": "2"
                                },
                                {
                                    "Name": "Margaret Peacock",
                                    "EmployeeID": "4",
                                    "ReportsTo": "2"
                                },
                                {
                                    "Name": "Steven Buchanan",
                                    "EmployeeID": "5",
                                    "ReportsTo": "2"
                                },
                                {
                                    "Name": "Michael Suyama",
                                    "EmployeeID": "6",
                                    "ReportsTo": "5"
                                },
                                {
                                    "Name": "Robert King",
                                    "EmployeeID": "7",
                                    "ReportsTo": "5"
                                },
                                {
                                    "Name": "Laura Callahan",
                                    "EmployeeID": "8",
                                    "ReportsTo": "2"
                                },
                                {
                                    "Name": "Anne Dodsworth",
                                    "EmployeeID": "9",
                                    "ReportsTo": "5"
                                }
                            ]
                        },
                        "text/html": "<table><tr><th>Name</th><th>EmployeeID</th><th>ReportsTo</th></tr><tr><td>Nancy Davolio</td><td>1</td><td>2</td></tr><tr><td>Andrew Fuller</td><td>2</td><td>NULL</td></tr><tr><td>Janet Leverling</td><td>3</td><td>2</td></tr><tr><td>Margaret Peacock</td><td>4</td><td>2</td></tr><tr><td>Steven Buchanan</td><td>5</td><td>2</td></tr><tr><td>Michael Suyama</td><td>6</td><td>5</td></tr><tr><td>Robert King</td><td>7</td><td>5</td></tr><tr><td>Laura Callahan</td><td>8</td><td>2</td></tr><tr><td>Anne Dodsworth</td><td>9</td><td>5</td></tr></table>"
                    },
                    "metadata": {}
                }
            ],
            "execution_count": 37
        },
        {
            "cell_type": "markdown",
            "source": [
                "# 17\\. CROSS JOIN\n",
                "\n",
                "Instead of matching on keys, a cross join produces the cartesian product of two tables. Each row from the first table is paired with each row from the second table, giving you every possible combination of rows.\n",
                "\n",
                "This isn't commonly used in practice, but could come in handy if you wanted to set up a departmental softball tournament, for instance.\n",
                "\n",
                "```SQL\n",
                "SELECT cat.CategoryName\n",
                "      ,shp.CompanyName\n",
                "FROM dbo.Categories as cat\n",
                "    CROSS JOIN dbo.Shippers as shp\n",
                "```"
            ],
            "metadata": {
                "language": "sql",
                "azdata_cell_guid": "167851b7-d938-4a2d-a6e2-0a6c36825389"
            },
            "attachments": {}
        },
        {
            "cell_type": "code",
            "source": [
                "SELECT TOP 15 cat.CategoryName\r\n",
                "      ,shp.CompanyName\r\n",
                "FROM dbo.Categories as cat\r\n",
                "    CROSS JOIN dbo.Shippers as shp"
            ],
            "metadata": {
                "language": "sql",
                "azdata_cell_guid": "ffcf16a6-400d-4fdf-8b10-24f117f894cf",
                "tags": []
            },
            "outputs": [
                {
                    "output_type": "display_data",
                    "data": {
                        "text/html": "(15 rows affected)"
                    },
                    "metadata": {}
                },
                {
                    "output_type": "display_data",
                    "data": {
                        "text/html": "Total execution time: 00:00:00.016"
                    },
                    "metadata": {}
                },
                {
                    "output_type": "execute_result",
                    "execution_count": 39,
                    "data": {
                        "application/vnd.dataresource+json": {
                            "schema": {
                                "fields": [
                                    {
                                        "name": "CategoryName"
                                    },
                                    {
                                        "name": "CompanyName"
                                    }
                                ]
                            },
                            "data": [
                                {
                                    "CategoryName": "Beverages",
                                    "CompanyName": "Speedy Express"
                                },
                                {
                                    "CategoryName": "Condiments",
                                    "CompanyName": "Speedy Express"
                                },
                                {
                                    "CategoryName": "Confections",
                                    "CompanyName": "Speedy Express"
                                },
                                {
                                    "CategoryName": "Dairy Products",
                                    "CompanyName": "Speedy Express"
                                },
                                {
                                    "CategoryName": "Grains/Cereals",
                                    "CompanyName": "Speedy Express"
                                },
                                {
                                    "CategoryName": "Meat/Poultry",
                                    "CompanyName": "Speedy Express"
                                },
                                {
                                    "CategoryName": "Produce",
                                    "CompanyName": "Speedy Express"
                                },
                                {
                                    "CategoryName": "Seafood",
                                    "CompanyName": "Speedy Express"
                                },
                                {
                                    "CategoryName": "Beverages",
                                    "CompanyName": "United Package"
                                },
                                {
                                    "CategoryName": "Condiments",
                                    "CompanyName": "United Package"
                                },
                                {
                                    "CategoryName": "Confections",
                                    "CompanyName": "United Package"
                                },
                                {
                                    "CategoryName": "Dairy Products",
                                    "CompanyName": "United Package"
                                },
                                {
                                    "CategoryName": "Grains/Cereals",
                                    "CompanyName": "United Package"
                                },
                                {
                                    "CategoryName": "Meat/Poultry",
                                    "CompanyName": "United Package"
                                },
                                {
                                    "CategoryName": "Produce",
                                    "CompanyName": "United Package"
                                }
                            ]
                        },
                        "text/html": "<table><tr><th>CategoryName</th><th>CompanyName</th></tr><tr><td>Beverages</td><td>Speedy Express</td></tr><tr><td>Condiments</td><td>Speedy Express</td></tr><tr><td>Confections</td><td>Speedy Express</td></tr><tr><td>Dairy Products</td><td>Speedy Express</td></tr><tr><td>Grains/Cereals</td><td>Speedy Express</td></tr><tr><td>Meat/Poultry</td><td>Speedy Express</td></tr><tr><td>Produce</td><td>Speedy Express</td></tr><tr><td>Seafood</td><td>Speedy Express</td></tr><tr><td>Beverages</td><td>United Package</td></tr><tr><td>Condiments</td><td>United Package</td></tr><tr><td>Confections</td><td>United Package</td></tr><tr><td>Dairy Products</td><td>United Package</td></tr><tr><td>Grains/Cereals</td><td>United Package</td></tr><tr><td>Meat/Poultry</td><td>United Package</td></tr><tr><td>Produce</td><td>United Package</td></tr></table>"
                    },
                    "metadata": {}
                }
            ],
            "execution_count": 39
        },
        {
            "cell_type": "markdown",
            "source": [
                "# 18\\. DISTINCT\n",
                "\n",
                "The DISTINCT keyword can be used to select only distinct elements from a column. It can also be used inside a COUNT() function to count the number of distinct elements in a column.\n",
                "```SQL\n",
                "SELECT COUNT(ShipCountry) as 'TotalCount'\n",
                "      ,COUNT(DISTINCT ShipCountry) as 'DistinctCount'\n",
                "FROM dbo.Orders\n",
                "```"
            ],
            "metadata": {
                "language": "sql",
                "azdata_cell_guid": "8a8e9223-7da4-47f9-9254-1bdb6e1c2abd"
            },
            "attachments": {}
        },
        {
            "cell_type": "code",
            "source": [
                "SELECT COUNT(ShipCountry) as 'TotalCount'\r\n",
                "      ,COUNT(DISTINCT ShipCountry) as 'DistinctCount'\r\n",
                "FROM dbo.Orders"
            ],
            "metadata": {
                "language": "sql",
                "azdata_cell_guid": "214ebc77-c110-469d-8f5d-825b469c1da1"
            },
            "outputs": [
                {
                    "output_type": "display_data",
                    "data": {
                        "text/html": "(1 row affected)"
                    },
                    "metadata": {}
                },
                {
                    "output_type": "display_data",
                    "data": {
                        "text/html": "Total execution time: 00:00:00.009"
                    },
                    "metadata": {}
                },
                {
                    "output_type": "execute_result",
                    "metadata": {},
                    "execution_count": 23,
                    "data": {
                        "application/vnd.dataresource+json": {
                            "schema": {
                                "fields": [
                                    {
                                        "name": "TotalCount"
                                    },
                                    {
                                        "name": "DistinctCount"
                                    }
                                ]
                            },
                            "data": [
                                {
                                    "TotalCount": "830",
                                    "DistinctCount": "21"
                                }
                            ]
                        },
                        "text/html": [
                            "<table>",
                            "<tr><th>TotalCount</th><th>DistinctCount</th></tr>",
                            "<tr><td>830</td><td>21</td></tr>",
                            "</table>"
                        ]
                    }
                }
            ],
            "execution_count": 23
        },
        {
            "cell_type": "markdown",
            "source": [
                "# 19\\. LIKE & Wildcards\n",
                "\n",
                "The LIKE operator is used to match string patterns in a column. It can be used by itself for an exact match, or with wildcards.\n",
                "\n",
                "The % wildcard represents any number of characters, including none. The \\_ wildcard represents a single character. You can use multiple of them for a specific number of characters.\n",
                "\n",
                "This example matches names that have 'a' as the second character and any number of characters after it.\n",
                "\n",
                "```SQL\n",
                "SELECT FirstName\n",
                "      ,LastName\n",
                "FROM dbo.Employees\n",
                "WHERE FirstName LIKE '_a%'\n",
                "```"
            ],
            "metadata": {
                "language": "sql",
                "azdata_cell_guid": "186e254f-03ee-472f-849d-ea2ba5e42247"
            },
            "attachments": {}
        },
        {
            "cell_type": "code",
            "source": [
                "SELECT FirstName\r\n",
                "      ,LastName\r\n",
                "FROM dbo.Employees\r\n",
                "WHERE FirstName LIKE '_a%'"
            ],
            "metadata": {
                "language": "sql",
                "azdata_cell_guid": "78c34fe3-7118-4266-9cc8-9063c7dd58f6"
            },
            "outputs": [
                {
                    "output_type": "display_data",
                    "data": {
                        "text/html": "(4 rows affected)"
                    },
                    "metadata": {}
                },
                {
                    "output_type": "display_data",
                    "data": {
                        "text/html": "Total execution time: 00:00:00.016"
                    },
                    "metadata": {}
                },
                {
                    "output_type": "execute_result",
                    "metadata": {},
                    "execution_count": 13,
                    "data": {
                        "application/vnd.dataresource+json": {
                            "schema": {
                                "fields": [
                                    {
                                        "name": "FirstName"
                                    },
                                    {
                                        "name": "LastName"
                                    }
                                ]
                            },
                            "data": [
                                {
                                    "FirstName": "Nancy",
                                    "LastName": "Davolio"
                                },
                                {
                                    "FirstName": "Janet",
                                    "LastName": "Leverling"
                                },
                                {
                                    "FirstName": "Margaret",
                                    "LastName": "Peacock"
                                },
                                {
                                    "FirstName": "Laura",
                                    "LastName": "Callahan"
                                }
                            ]
                        },
                        "text/html": [
                            "<table>",
                            "<tr><th>FirstName</th><th>LastName</th></tr>",
                            "<tr><td>Nancy</td><td>Davolio</td></tr>",
                            "<tr><td>Janet</td><td>Leverling</td></tr>",
                            "<tr><td>Margaret</td><td>Peacock</td></tr>",
                            "<tr><td>Laura</td><td>Callahan</td></tr>",
                            "</table>"
                        ]
                    }
                }
            ],
            "execution_count": 13
        },
        {
            "cell_type": "markdown",
            "source": [
                "# 20\\. Subqueries\n",
                "\n",
                "Subqueries are nested queries that allow you to make your queries more flexible. They can be used in many places, like SELECT, FROM, WHERE, and HAVING clauses.\n",
                "\n",
                "They can be used to get a scalar for comparison or for a small result set to reference. For instance, an aggregate function cannot appear in a WHERE clause, but we can use a subquery to get around this limitation.\n",
                "\n",
                "```SQL\n",
                "SELECT OrderID\n",
                "      ,Freight\n",
                "FROM dbo.Orders\n",
                "WHERE Freight > (SELECT AVG(Freight) FROM dbo.Orders)\n",
                "```"
            ],
            "metadata": {
                "language": "sql",
                "azdata_cell_guid": "3ede6606-113a-4265-93e4-f20cb8f959de"
            },
            "attachments": {}
        },
        {
            "cell_type": "code",
            "source": [
                "SELECT TOP 5 OrderID\r\n",
                "      ,Freight\r\n",
                "FROM dbo.Orders\r\n",
                "WHERE Freight > (SELECT AVG(Freight) FROM dbo.Orders)"
            ],
            "metadata": {
                "language": "sql",
                "azdata_cell_guid": "d65b7592-e13a-47c2-abc6-f86a13cd8036"
            },
            "outputs": [
                {
                    "output_type": "display_data",
                    "data": {
                        "text/html": "(5 rows affected)"
                    },
                    "metadata": {}
                },
                {
                    "output_type": "display_data",
                    "data": {
                        "text/html": "Total execution time: 00:00:00.018"
                    },
                    "metadata": {}
                },
                {
                    "output_type": "execute_result",
                    "metadata": {},
                    "execution_count": 16,
                    "data": {
                        "application/vnd.dataresource+json": {
                            "schema": {
                                "fields": [
                                    {
                                        "name": "OrderID"
                                    },
                                    {
                                        "name": "Freight"
                                    }
                                ]
                            },
                            "data": [
                                {
                                    "OrderID": "10255",
                                    "Freight": "148.33"
                                },
                                {
                                    "OrderID": "10257",
                                    "Freight": "81.91"
                                },
                                {
                                    "OrderID": "10258",
                                    "Freight": "140.51"
                                },
                                {
                                    "OrderID": "10263",
                                    "Freight": "146.06"
                                },
                                {
                                    "OrderID": "10267",
                                    "Freight": "208.58"
                                }
                            ]
                        },
                        "text/html": [
                            "<table>",
                            "<tr><th>OrderID</th><th>Freight</th></tr>",
                            "<tr><td>10255</td><td>148.33</td></tr>",
                            "<tr><td>10257</td><td>81.91</td></tr>",
                            "<tr><td>10258</td><td>140.51</td></tr>",
                            "<tr><td>10263</td><td>146.06</td></tr>",
                            "<tr><td>10267</td><td>208.58</td></tr>",
                            "</table>"
                        ]
                    }
                }
            ],
            "execution_count": 16
        },
        {
            "cell_type": "markdown",
            "source": [
                "# 21\\. CASE\n",
                "\n",
                "A CASE statement lets you evaluate multiple conditions and return different answers for each. It's similar to a switch statement or a set of if statements in other languages, or a conditional column in PowerQuery.\n",
                "\n",
                "Within the CASE - END block, each condition is represented by a 'WHEN x THEN y' statement, or an 'ELSE z'.\n",
                "\n",
                "```SQL\n",
                "SELECT MONTH(OrderDate) as 'MonthNumber'\n",
                "      ,CASE MONTH(OrderDate)\n",
                "        WHEN 1 THEN 'JANUARY'\n",
                "            WHEN 2 THEN 'FEBRUARY'\n",
                "            WHEN 3 THEN 'MARCH'\n",
                "            WHEN 4 THEN 'APRIL'\n",
                "            WHEN 5 THEN 'MAY'\n",
                "            WHEN 6 THEN 'JUNE'\n",
                "            WHEN 7 THEN 'JULY'\n",
                "            WHEN 8 THEN 'AUGUST'\n",
                "            WHEN 9 THEN 'SEPTEMBER'\n",
                "            WHEN 10 THEN 'OCTOBER'\n",
                "            WHEN 11 THEN 'NOVEMBER'\n",
                "            WHEN 12 THEN 'DECEMBER'\n",
                "            ELSE NULL\n",
                "        END as 'MonthName'\n",
                "FROM dbo.Orders\n",
                "GROUP BY MONTH(OrderDate)\n",
                "ORDER BY MONTH(OrderDate) ASC\n",
                "\n",
                "```"
            ],
            "metadata": {
                "language": "sql",
                "azdata_cell_guid": "fa1b4fc8-bbb8-4aed-af8c-1e3df976792c"
            },
            "attachments": {}
        },
        {
            "cell_type": "code",
            "source": [
                "SELECT MONTH(OrderDate) as 'MonthNumber'\r\n",
                "      ,CASE MONTH(OrderDate)\r\n",
                "        WHEN 1 THEN 'JANUARY'\r\n",
                "\t\t\tWHEN 2 THEN 'FEBRUARY'\r\n",
                "\t\t\tWHEN 3 THEN 'MARCH'\r\n",
                "\t\t\tWHEN 4 THEN 'APRIL'\r\n",
                "\t\t\tWHEN 5 THEN 'MAY'\r\n",
                "\t\t\tWHEN 6 THEN 'JUNE'\r\n",
                "\t\t\tWHEN 7 THEN 'JULY'\r\n",
                "\t\t\tWHEN 8 THEN 'AUGUST'\r\n",
                "\t\t\tWHEN 9 THEN 'SEPTEMBER'\r\n",
                "\t\t\tWHEN 10 THEN 'OCTOBER'\r\n",
                "\t\t\tWHEN 11 THEN 'NOVEMBER'\r\n",
                "\t\t\tWHEN 12 THEN 'DECEMBER'\r\n",
                "\t\t\tELSE NULL\r\n",
                "        END as 'MonthName'\r\n",
                "FROM dbo.Orders\r\n",
                "GROUP BY MONTH(OrderDate)\r\n",
                "ORDER BY MONTH(OrderDate) ASC"
            ],
            "metadata": {
                "language": "sql",
                "azdata_cell_guid": "e5d4645d-2d6c-4fb2-bd88-fc22fe42d95d"
            },
            "outputs": [
                {
                    "output_type": "display_data",
                    "data": {
                        "text/html": "(12 rows affected)"
                    },
                    "metadata": {}
                },
                {
                    "output_type": "display_data",
                    "data": {
                        "text/html": "Total execution time: 00:00:00.010"
                    },
                    "metadata": {}
                },
                {
                    "output_type": "execute_result",
                    "metadata": {},
                    "execution_count": 5,
                    "data": {
                        "application/vnd.dataresource+json": {
                            "schema": {
                                "fields": [
                                    {
                                        "name": "MonthNumber"
                                    },
                                    {
                                        "name": "MonthName"
                                    }
                                ]
                            },
                            "data": [
                                {
                                    "MonthNumber": "1",
                                    "MonthName": "JANUARY"
                                },
                                {
                                    "MonthNumber": "2",
                                    "MonthName": "FEBRUARY"
                                },
                                {
                                    "MonthNumber": "3",
                                    "MonthName": "MARCH"
                                },
                                {
                                    "MonthNumber": "4",
                                    "MonthName": "APRIL"
                                },
                                {
                                    "MonthNumber": "5",
                                    "MonthName": "MAY"
                                },
                                {
                                    "MonthNumber": "6",
                                    "MonthName": "JUNE"
                                },
                                {
                                    "MonthNumber": "7",
                                    "MonthName": "JULY"
                                },
                                {
                                    "MonthNumber": "8",
                                    "MonthName": "AUGUST"
                                },
                                {
                                    "MonthNumber": "9",
                                    "MonthName": "SEPTEMBER"
                                },
                                {
                                    "MonthNumber": "10",
                                    "MonthName": "OCTOBER"
                                },
                                {
                                    "MonthNumber": "11",
                                    "MonthName": "NOVEMBER"
                                },
                                {
                                    "MonthNumber": "12",
                                    "MonthName": "DECEMBER"
                                }
                            ]
                        },
                        "text/html": [
                            "<table>",
                            "<tr><th>MonthNumber</th><th>MonthName</th></tr>",
                            "<tr><td>1</td><td>JANUARY</td></tr>",
                            "<tr><td>2</td><td>FEBRUARY</td></tr>",
                            "<tr><td>3</td><td>MARCH</td></tr>",
                            "<tr><td>4</td><td>APRIL</td></tr>",
                            "<tr><td>5</td><td>MAY</td></tr>",
                            "<tr><td>6</td><td>JUNE</td></tr>",
                            "<tr><td>7</td><td>JULY</td></tr>",
                            "<tr><td>8</td><td>AUGUST</td></tr>",
                            "<tr><td>9</td><td>SEPTEMBER</td></tr>",
                            "<tr><td>10</td><td>OCTOBER</td></tr>",
                            "<tr><td>11</td><td>NOVEMBER</td></tr>",
                            "<tr><td>12</td><td>DECEMBER</td></tr>",
                            "</table>"
                        ]
                    }
                }
            ],
            "execution_count": 5
        },
        {
            "cell_type": "markdown",
            "source": [
                "# 22\\. CTE\n",
                "\n",
                "CTEs, or Common Table Expressions create a temporary result set which can then be referenced and further queried. This allows you to take multiple passes at the data, which is usually not possible in SQL.\n",
                "\n",
                "To declare a CTE, start with WITH 'CTE\\_name' AS followed by your first SELECT statement in parentheses. The CTE can then be queried by referencing the CTE\\_name.\n",
                "\n",
                "```SQL\n",
                "WITH Employee_CTE\n",
                "AS\n",
                "(\n",
                "    SELECT emp.EmployeeID\n",
                "          ,concat(emp.FirstName, ' ', emp.LastName) as 'EmployeeName'\n",
                "          ,ord.OrderID\n",
                "          ,ord.OrderDate\n",
                "    FROM dbo.Orders as ord\n",
                "    INNER JOIN dbo.Employees as emp\n",
                "    ON ord.EmployeeID = emp.EmployeeID\n",
                "    WHERE OrderDate = EOMONTH(OrderDate)\n",
                ")\n",
                "SELECT TOP 5 WITH TIES EmployeeID\n",
                "                      ,EmployeeName\n",
                "                      ,count(*) as 'OrderCount'\n",
                "FROM Employee_CTE\n",
                "GROUP BY EmployeeID, EmployeeName\n",
                "ORDER BY OrderCount DESC\n",
                ";\n",
                "\n",
                "```"
            ],
            "metadata": {
                "language": "sql",
                "azdata_cell_guid": "f4ab0342-4a32-42e3-b09d-384d8e787f2b"
            },
            "attachments": {}
        },
        {
            "cell_type": "code",
            "source": [
                "WITH Employee_CTE \r\n",
                "AS\r\n",
                "(\r\n",
                "\tSELECT emp.EmployeeID\r\n",
                "\t\t  ,concat(emp.FirstName, ' ', emp.LastName) as 'EmployeeName'\r\n",
                "\t\t  ,ord.OrderID\r\n",
                "\t\t  ,ord.OrderDate\r\n",
                "\tFROM dbo.Orders as ord\r\n",
                "\tINNER JOIN dbo.Employees as emp\r\n",
                "\tON ord.EmployeeID = emp.EmployeeID\r\n",
                "\tWHERE OrderDate = EOMONTH(OrderDate)\r\n",
                ")\r\n",
                "SELECT TOP 5 WITH TIES EmployeeID\r\n",
                "\t\t\t\t\t  ,EmployeeName\r\n",
                "\t\t\t\t\t  ,count(*) as 'OrderCount'\r\n",
                "FROM Employee_CTE\r\n",
                "GROUP BY EmployeeID, EmployeeName\r\n",
                "ORDER BY OrderCount DESC\r\n",
                ";"
            ],
            "metadata": {
                "language": "sql",
                "azdata_cell_guid": "b6c9b1ba-e327-47d5-93f4-5db531cd9dc5"
            },
            "outputs": [
                {
                    "output_type": "display_data",
                    "data": {
                        "text/html": "(5 rows affected)"
                    },
                    "metadata": {}
                },
                {
                    "output_type": "display_data",
                    "data": {
                        "text/html": "Total execution time: 00:00:00.013"
                    },
                    "metadata": {}
                },
                {
                    "output_type": "execute_result",
                    "metadata": {},
                    "execution_count": 6,
                    "data": {
                        "application/vnd.dataresource+json": {
                            "schema": {
                                "fields": [
                                    {
                                        "name": "EmployeeID"
                                    },
                                    {
                                        "name": "EmployeeName"
                                    },
                                    {
                                        "name": "OrderCount"
                                    }
                                ]
                            },
                            "data": [
                                {
                                    "EmployeeID": "4",
                                    "EmployeeName": "Margaret Peacock",
                                    "OrderCount": "8"
                                },
                                {
                                    "EmployeeID": "2",
                                    "EmployeeName": "Andrew Fuller",
                                    "OrderCount": "4"
                                },
                                {
                                    "EmployeeID": "3",
                                    "EmployeeName": "Janet Leverling",
                                    "OrderCount": "4"
                                },
                                {
                                    "EmployeeID": "8",
                                    "EmployeeName": "Laura Callahan",
                                    "OrderCount": "4"
                                },
                                {
                                    "EmployeeID": "1",
                                    "EmployeeName": "Nancy Davolio",
                                    "OrderCount": "2"
                                }
                            ]
                        },
                        "text/html": [
                            "<table>",
                            "<tr><th>EmployeeID</th><th>EmployeeName</th><th>OrderCount</th></tr>",
                            "<tr><td>4</td><td>Margaret Peacock</td><td>8</td></tr>",
                            "<tr><td>2</td><td>Andrew Fuller</td><td>4</td></tr>",
                            "<tr><td>3</td><td>Janet Leverling</td><td>4</td></tr>",
                            "<tr><td>8</td><td>Laura Callahan</td><td>4</td></tr>",
                            "<tr><td>1</td><td>Nancy Davolio</td><td>2</td></tr>",
                            "</table>"
                        ]
                    }
                }
            ],
            "execution_count": 6
        },
        {
            "cell_type": "markdown",
            "source": [
                "# 23\\. UNION\n",
                "\n",
                "You can use UNION to combine, or append, two result sets into one. There are some restrictions - both result sets must have the same number of columns, with the same data types, in the same order. Intuitively, you're stacking the two result sets together, so all their columns have to match up.\n",
                "\n",
                "If you want to include duplicates, you can use UNION ALL.\n",
                "\n",
                "```SQL\n",
                "SELECT ShipCity\n",
                "      ,ShipCountry\n",
                "FROM dbo.Orders\n",
                "UNION\n",
                "SELECT City\n",
                "      ,Country\n",
                "FROM dbo.Suppliers\n",
                "```"
            ],
            "metadata": {
                "language": "sql",
                "azdata_cell_guid": "2795dd6f-ca2f-42e7-b59a-6f6276aeb178"
            },
            "attachments": {}
        },
        {
            "cell_type": "code",
            "source": [
                "SELECT TOP 5 ShipCity\r\n",
                "      ,ShipCountry\r\n",
                "FROM dbo.Orders\r\n",
                "UNION\r\n",
                "SELECT TOP 5 City\r\n",
                "      ,Country\r\n",
                "FROM dbo.Suppliers"
            ],
            "metadata": {
                "language": "sql",
                "azdata_cell_guid": "d70de3d4-0845-4f59-a0c7-776045640120"
            },
            "outputs": [
                {
                    "output_type": "display_data",
                    "data": {
                        "text/html": "(10 rows affected)"
                    },
                    "metadata": {}
                },
                {
                    "output_type": "display_data",
                    "data": {
                        "text/html": "Total execution time: 00:00:00.016"
                    },
                    "metadata": {}
                },
                {
                    "output_type": "execute_result",
                    "metadata": {},
                    "execution_count": 18,
                    "data": {
                        "application/vnd.dataresource+json": {
                            "schema": {
                                "fields": [
                                    {
                                        "name": "ShipCity"
                                    },
                                    {
                                        "name": "ShipCountry"
                                    }
                                ]
                            },
                            "data": [
                                {
                                    "ShipCity": "Ann Arbor",
                                    "ShipCountry": "USA"
                                },
                                {
                                    "ShipCity": "Charleroi",
                                    "ShipCountry": "Belgium"
                                },
                                {
                                    "ShipCity": "London",
                                    "ShipCountry": "UK"
                                },
                                {
                                    "ShipCity": "Lyon",
                                    "ShipCountry": "France"
                                },
                                {
                                    "ShipCity": "Münster",
                                    "ShipCountry": "Germany"
                                },
                                {
                                    "ShipCity": "New Orleans",
                                    "ShipCountry": "USA"
                                },
                                {
                                    "ShipCity": "Oviedo",
                                    "ShipCountry": "Spain"
                                },
                                {
                                    "ShipCity": "Reims",
                                    "ShipCountry": "France"
                                },
                                {
                                    "ShipCity": "Rio de Janeiro",
                                    "ShipCountry": "Brazil"
                                },
                                {
                                    "ShipCity": "Tokyo",
                                    "ShipCountry": "Japan"
                                }
                            ]
                        },
                        "text/html": [
                            "<table>",
                            "<tr><th>ShipCity</th><th>ShipCountry</th></tr>",
                            "<tr><td>Ann Arbor</td><td>USA</td></tr>",
                            "<tr><td>Charleroi</td><td>Belgium</td></tr>",
                            "<tr><td>London</td><td>UK</td></tr>",
                            "<tr><td>Lyon</td><td>France</td></tr>",
                            "<tr><td>Münster</td><td>Germany</td></tr>",
                            "<tr><td>New Orleans</td><td>USA</td></tr>",
                            "<tr><td>Oviedo</td><td>Spain</td></tr>",
                            "<tr><td>Reims</td><td>France</td></tr>",
                            "<tr><td>Rio de Janeiro</td><td>Brazil</td></tr>",
                            "<tr><td>Tokyo</td><td>Japan</td></tr>",
                            "</table>"
                        ]
                    }
                }
            ],
            "execution_count": 18
        },
        {
            "cell_type": "markdown",
            "source": [
                "# 24\\. Variables\n",
                "\n",
                "Variables in SQL function similarly to those in other languages. They can be assigned a value, which can change during execution, for instance in loops.\n",
                "\n",
                "You must declare the type of a variable when you create it.\n",
                "\n",
                "```SQL\n",
                "DECLARE @TestVariable as NVARCHAR(50)\n",
                "SET @TestVariable = 'Hello World!'\n",
                "PRINT @TestVariable\n",
                "SET @TestVariable = '!dlroW olleH'\n",
                "PRINT @TestVariable\n",
                "```"
            ],
            "metadata": {
                "language": "sql",
                "azdata_cell_guid": "e64bb267-afac-494a-9fcc-038d912118fa"
            },
            "attachments": {}
        },
        {
            "cell_type": "code",
            "source": [
                "DECLARE @TestVariable as NVARCHAR(50)\r\n",
                "SET @TestVariable = 'Hello World!'\r\n",
                "PRINT @TestVariable\r\n",
                "SET @TestVariable = '!dlroW olleH'\r\n",
                "PRINT @TestVariable"
            ],
            "metadata": {
                "language": "sql",
                "azdata_cell_guid": "799beb7b-3637-44c0-bd18-1e6e1ca58993"
            },
            "outputs": [
                {
                    "output_type": "display_data",
                    "data": {
                        "text/html": "Hello World!"
                    },
                    "metadata": {}
                },
                {
                    "output_type": "display_data",
                    "data": {
                        "text/html": "!dlroW olleH"
                    },
                    "metadata": {}
                },
                {
                    "output_type": "display_data",
                    "data": {
                        "text/html": "Total execution time: 00:00:00.002"
                    },
                    "metadata": {}
                }
            ],
            "execution_count": 21
        },
        {
            "cell_type": "markdown",
            "source": [
                "# 25\\. Functions\n",
                "\n",
                "You can create functions in SQL just like in most programming languages. You need to declare a schema and function name, one or more input parameters with types, and the type of the output.\n",
                "\n",
                "The content of the function is contained in a BEGIN - END block. This example function takes a string and changes it to proper case.\n",
                "\n",
                "```SQL\n",
                "CREATE OR ALTER FUNCTION dev.Proper (@InputString NVARCHAR(50))\n",
                "RETURNS NVARCHAR(50)\n",
                "AS\n",
                "    \n",
                "BEGIN\n",
                "    RETURN UPPER(SUBSTRING(@InputString, 1,1)) + LOWER(Substring((@InputString), 2, LEN(@InputString))) \n",
                "END\n",
                ";\n",
                "\n",
                "```"
            ],
            "metadata": {
                "language": "sql",
                "azdata_cell_guid": "dbf4e4c4-c626-4eb8-9c69-65cc5b0caffb"
            },
            "attachments": {}
        },
        {
            "cell_type": "code",
            "source": [
                "SELECT dev.Proper('hElLo') as 'ProperCase'"
            ],
            "metadata": {
                "language": "sql",
                "azdata_cell_guid": "72f4f057-27fd-47f8-907b-e38e50d0a94f"
            },
            "outputs": [
                {
                    "output_type": "display_data",
                    "data": {
                        "text/html": "(1 row affected)"
                    },
                    "metadata": {}
                },
                {
                    "output_type": "display_data",
                    "data": {
                        "text/html": "Total execution time: 00:00:00.008"
                    },
                    "metadata": {}
                },
                {
                    "output_type": "execute_result",
                    "execution_count": 4,
                    "data": {
                        "application/vnd.dataresource+json": {
                            "schema": {
                                "fields": [
                                    {
                                        "name": "ProperCase"
                                    }
                                ]
                            },
                            "data": [
                                {
                                    "ProperCase": "Hello"
                                }
                            ]
                        },
                        "text/html": "<table><tr><th>ProperCase</th></tr><tr><td>Hello</td></tr></table>"
                    },
                    "metadata": {}
                }
            ],
            "execution_count": 4
        }
    ]
}